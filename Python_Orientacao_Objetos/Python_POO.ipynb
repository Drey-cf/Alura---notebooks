{
 "cells": [
  {
   "cell_type": "markdown",
   "id": "85227cb5-b33c-4d27-875b-3a4634419e8f",
   "metadata": {},
   "source": [
    "## Para saber mais:\n",
    "\n",
    "Em programação orientada a objetos (OO), uma classe é um modelo para criar objetos. Um objeto é uma instância específica de uma classe, e as classes são utilizadas para definir o comportamento e as propriedades compartilhadas por um grupo de objetos relacionados.\n",
    "\n",
    "Por exemplo, uma classe Música poderia ter 3 atributos (que trazem as características ou propriedades de um objeto):\n",
    "\n",
    "- `nome`\n",
    "- `artista`\n",
    "- `duração`"
   ]
  },
  {
   "cell_type": "markdown",
   "id": "828d4e1b-812e-4c99-b235-46c39da62d3b",
   "metadata": {
    "jp-MarkdownHeadingCollapsed": true
   },
   "source": [
    "### Exercício 1"
   ]
  },
  {
   "cell_type": "markdown",
   "id": "03873733-771e-4c63-9c2d-8e65b24efa94",
   "metadata": {},
   "source": [
    "Crie uma classe chamada Musica com os seguintes atributos e crie 3 objetos definindo cada atributo.."
   ]
  },
  {
   "cell_type": "code",
   "execution_count": 21,
   "id": "96622c3f-8e98-4a09-ab26-8d92a1a52693",
   "metadata": {},
   "outputs": [],
   "source": [
    "class Musica:\n",
    "    nome = ''\n",
    "    artista = ''\n",
    "    duracao = int\n",
    "\n",
    "Musica_1 = Musica()\n",
    "Musica_1.nome = 'Ein Monolog'\n",
    "Musica_1.artista = 'Namika'\n",
    "Musica_1.duracao = 199\n",
    "\n",
    "Musica_2 = Musica()\n",
    "Musica_2.nome = 'No se ve'\n",
    "Musica_2.artista = 'Emilia'\n",
    "Musica_2.duracao = 206\n",
    "\n",
    "Musica_3 = Musica()\n",
    "Musica_3.nome = 'Boiadeira Remix'\n",
    "Musica_3.artista = 'Ana Castela'\n",
    "Musica_3.duracao = 187"
   ]
  },
  {
   "cell_type": "markdown",
   "id": "1e3bf991-52a5-4cda-8b64-a326bc623949",
   "metadata": {
    "jp-MarkdownHeadingCollapsed": true
   },
   "source": [
    "### Lista 1"
   ]
  },
  {
   "cell_type": "markdown",
   "id": "437c37b5-ad1b-43a5-a46d-6379f5243f6d",
   "metadata": {},
   "source": [
    "Considere o código a baixo"
   ]
  },
  {
   "cell_type": "code",
   "execution_count": 22,
   "id": "7d72dac1-34b9-4d0f-9ef0-44306a41974e",
   "metadata": {},
   "outputs": [],
   "source": [
    "class Restaurante:\n",
    "    nome = ''\n",
    "    categoria = ''\n",
    "    ativo = False\n",
    "    duracao = int"
   ]
  },
  {
   "cell_type": "markdown",
   "id": "4695de26-feff-40d4-8df1-62c8cc20f331",
   "metadata": {},
   "source": [
    "1) Atribua o valor 'Italiana' ao atributo categoria da instância restaurante_praca da classe Restaurante."
   ]
  },
  {
   "cell_type": "code",
   "execution_count": 23,
   "id": "41e56864-7c48-48e4-96e8-53352a7fa86f",
   "metadata": {},
   "outputs": [],
   "source": [
    "restaurante_praca = Restaurante()\n",
    "restaurante_praca.categoria = 'Italiana'"
   ]
  },
  {
   "cell_type": "markdown",
   "id": "3398b142-a8fc-4c17-86e1-51bda30b172b",
   "metadata": {},
   "source": [
    "2) Acesse o valor do atributo nome da instância restaurante_praca da classe Restaurante."
   ]
  },
  {
   "cell_type": "code",
   "execution_count": 24,
   "id": "5ef1be20-33fe-40b0-bbeb-7ff95f3cba53",
   "metadata": {},
   "outputs": [
    {
     "data": {
      "text/plain": [
       "''"
      ]
     },
     "execution_count": 24,
     "metadata": {},
     "output_type": "execute_result"
    }
   ],
   "source": [
    "nome_restaurante_praca = restaurante_praca.nome\n",
    "nome_restaurante_praca"
   ]
  },
  {
   "cell_type": "markdown",
   "id": "c9ff7aab-028a-4675-b682-e64be645d332",
   "metadata": {},
   "source": [
    "3) Verifique o valor inicial do atributo ativo para a instância restaurante_praca e exiba uma mensagem informando se o restaurante está ativo ou inativo."
   ]
  },
  {
   "cell_type": "code",
   "execution_count": 25,
   "id": "628d93da-2119-4a68-9343-c25942118aa1",
   "metadata": {},
   "outputs": [
    {
     "name": "stdout",
     "output_type": "stream",
     "text": [
      "O restaurante está Inativo\n"
     ]
    }
   ],
   "source": [
    "if restaurante_praca.ativo:\n",
    "    print('O restaurante está Ativo')\n",
    "else:\n",
    "    print('O restaurante está Inativo')"
   ]
  },
  {
   "cell_type": "markdown",
   "id": "3b35fd9d-cf2b-49db-b97b-e6e958754c69",
   "metadata": {},
   "source": [
    "4) Acesse o valor do atributo de classe categoria diretamente da classe Restaurante e armazene em uma variável chamada `categoria`."
   ]
  },
  {
   "cell_type": "code",
   "execution_count": 26,
   "id": "f0a8bd3e-8418-4c0d-8eec-80e607d1268b",
   "metadata": {},
   "outputs": [
    {
     "data": {
      "text/plain": [
       "''"
      ]
     },
     "execution_count": 26,
     "metadata": {},
     "output_type": "execute_result"
    }
   ],
   "source": [
    "categoria = Restaurante.categoria\n",
    "categoria"
   ]
  },
  {
   "cell_type": "markdown",
   "id": "372635f1-7df1-4e9c-bb21-763766346253",
   "metadata": {},
   "source": [
    "5) Altere o valor do atributo nome para 'Bistrô'."
   ]
  },
  {
   "cell_type": "code",
   "execution_count": 27,
   "id": "b7a3130c-b22c-4e2e-9e6c-60dfee138fad",
   "metadata": {},
   "outputs": [],
   "source": [
    "restaurante_praca.nome = 'Bistrô'"
   ]
  },
  {
   "cell_type": "markdown",
   "id": "b3f28dec-a1c8-4cd4-a133-f5c52488b04e",
   "metadata": {},
   "source": [
    "6) Crie uma nova instância da classe Restaurante chamada restaurante_pizza com o nome 'Pizza Place' e categoria 'Fast Food'."
   ]
  },
  {
   "cell_type": "code",
   "execution_count": 28,
   "id": "e001a031-88f9-4d6f-a36f-dc87e4d6e219",
   "metadata": {},
   "outputs": [],
   "source": [
    "restaurante_pizza = Restaurante()\n",
    "\n",
    "restaurante_pizza.nome = 'Pizza Place'\n",
    "restaurante_pizza.categoria = 'Fast Food'"
   ]
  },
  {
   "cell_type": "markdown",
   "id": "3d9d643a-2256-4d2f-b332-1901f39a0147",
   "metadata": {},
   "source": [
    "7) Verifique se a categoria da instância restaurante_pizza é 'Fast Food'."
   ]
  },
  {
   "cell_type": "code",
   "execution_count": 29,
   "id": "9d585a37-a211-423a-8702-513f56939fde",
   "metadata": {},
   "outputs": [
    {
     "name": "stdout",
     "output_type": "stream",
     "text": [
      "A categoria do restaurante é Fast Food\n"
     ]
    }
   ],
   "source": [
    "if restaurante_pizza.categoria == 'Fast Food':\n",
    "    print(f'A categoria do restaurante é {restaurante_pizza.categoria}')\n",
    "else:\n",
    "    print(f'A categoria do restaurante não é Fast Food, é {restaurante_pizza.categoria}')"
   ]
  },
  {
   "cell_type": "markdown",
   "id": "69d7e21c-ffd1-4b60-bfbb-856236461524",
   "metadata": {},
   "source": [
    "8) Mude o estado da instância restaurante_pizza para ativo."
   ]
  },
  {
   "cell_type": "code",
   "execution_count": 30,
   "id": "87ae8933-6ec5-421e-9ab6-d66a767f3640",
   "metadata": {},
   "outputs": [],
   "source": [
    "restaurante_pizza.ativo = True"
   ]
  },
  {
   "cell_type": "markdown",
   "id": "d6d58453-a40e-45be-8389-3d0b32ac1873",
   "metadata": {},
   "source": [
    "9) Imprima no console o nome e a categoria da instância restaurante_praca."
   ]
  },
  {
   "cell_type": "code",
   "execution_count": 31,
   "id": "8b250316-d44a-499c-aa05-e8202875b949",
   "metadata": {},
   "outputs": [
    {
     "name": "stdout",
     "output_type": "stream",
     "text": [
      "O nome do restaurante é Bistrô\n",
      "A categoria do restaurante é Italiana\n"
     ]
    }
   ],
   "source": [
    "print(f'O nome do restaurante é {restaurante_praca.nome}')\n",
    "print(f'A categoria do restaurante é {restaurante_praca.categoria}')\n"
   ]
  },
  {
   "cell_type": "markdown",
   "id": "d26c1116-491e-4f65-abda-4bde6671e4dc",
   "metadata": {
    "jp-MarkdownHeadingCollapsed": true
   },
   "source": [
    "### Exercício 2"
   ]
  },
  {
   "cell_type": "markdown",
   "id": "1d740443-9fbb-4d4e-9f0d-752ced945ccc",
   "metadata": {},
   "source": [
    "```sh\n",
    "class Musica:\n",
    "    nome = ''\n",
    "    artista = ''\n",
    "    duracao = int\n",
    "```"
   ]
  },
  {
   "cell_type": "markdown",
   "id": "381dd0d5-b332-4f08-8a6b-72c24a3658bc",
   "metadata": {},
   "source": [
    "Refaça essa classe Musica utilizando uma forma mais concisa e expressiva, aproveitando a sintaxe simplificada do Python."
   ]
  },
  {
   "cell_type": "code",
   "execution_count": 32,
   "id": "a2f1e7cb-3c10-45dd-9cb2-a0a3d4d7b460",
   "metadata": {},
   "outputs": [],
   "source": [
    "class Musica():\n",
    "\n",
    "    def __init__(self, nome = '', artista = '', duracao = int):\n",
    "        self.nome = nome\n",
    "        self.artista = artista\n",
    "        self.duracao = duracao\n",
    "\n",
    "\n",
    "Musica_1 = Musica(nome = 'Ein Monolog', artista = 'Namika', duracao = 199)\n",
    "Musica_2 = Musica(nome = 'No se ve', artista = 'Emilia', duracao = 206)\n",
    "Musica_3 = Musica(nome = 'Boiadeira Remix', artista = 'Ana Castela', duracao = 187)"
   ]
  },
  {
   "cell_type": "markdown",
   "id": "2d7d8deb-1572-46a6-a6a0-84f40898494e",
   "metadata": {
    "jp-MarkdownHeadingCollapsed": true
   },
   "source": [
    "### Lista 2"
   ]
  },
  {
   "cell_type": "markdown",
   "id": "f1c7592a-e065-4689-aa0f-5779ef2d5489",
   "metadata": {},
   "source": [
    "1) Implemente uma classe chamada Carro com os atributos básicos, como modelo, cor e ano. Crie uma instância dessa classe e atribua valores aos seus atributos."
   ]
  },
  {
   "cell_type": "code",
   "execution_count": 33,
   "id": "b569e369-1a29-4e90-87f9-5c8e30d9f8aa",
   "metadata": {},
   "outputs": [],
   "source": [
    "class Carro:\n",
    "    def __init__ (self, modelo = '', cor = '', ano = int):\n",
    "        self.modelo = modelo\n",
    "        self.cor = cor\n",
    "        self.ano = ano\n",
    "\n",
    "Carro_1 = Carro(modelo = 'Kwid', cor = 'Prata', ano = 2022)"
   ]
  },
  {
   "cell_type": "markdown",
   "id": "8164c168-3652-4dfb-abd5-67be3b230158",
   "metadata": {},
   "source": [
    "2) Crie uma classe chamada Restaurante com os atributos nome, categoria, ativo e crie mais 2 atributos. Instancie um restaurante e atribua valores aos seus atributos."
   ]
  },
  {
   "cell_type": "code",
   "execution_count": 34,
   "id": "bd741c92-f065-43d0-9a08-5c32596e2772",
   "metadata": {},
   "outputs": [
    {
     "data": {
      "text/plain": [
       "<__main__.Restaurante at 0x7f40d030d1f0>"
      ]
     },
     "execution_count": 34,
     "metadata": {},
     "output_type": "execute_result"
    }
   ],
   "source": [
    "class Restaurante:\n",
    "    \n",
    "    def __init__(self, nome = '', categoria = '', ativo = False, cidade = '', ano_inauguracao = int):\n",
    "        \n",
    "        self.nome = nome\n",
    "        self.categoria = categoria\n",
    "        self.ativo = ativo\n",
    "        self.cidade = cidade\n",
    "        self.ano_inauguracao = ano_inauguracao\n",
    "\n",
    "Restaurante(nome = 'Capimburguer', categoria = 'Hamburgueria', ativo = True, cidade = 'Porto Alegre', ano_inauguracao = 2020)"
   ]
  },
  {
   "cell_type": "markdown",
   "id": "44f854b4-637b-4789-90dc-c6da384380e8",
   "metadata": {},
   "source": [
    "3) Modifique a classe Restaurante adicionando um construtor que aceita nome e categoria como parâmetros e inicia ativo como False por padrão. Crie uma instância utilizando o construtor."
   ]
  },
  {
   "cell_type": "code",
   "execution_count": 35,
   "id": "7cec7e1a-7d60-48c4-a4a7-140c24ce2f60",
   "metadata": {},
   "outputs": [
    {
     "data": {
      "text/plain": [
       "<__main__.Restaurante at 0x7f40cc6e50d0>"
      ]
     },
     "execution_count": 35,
     "metadata": {},
     "output_type": "execute_result"
    }
   ],
   "source": [
    "class Restaurante:\n",
    "    \n",
    "    def __init__(self, nome, categoria, ativo = False, cidade = '', ano_inauguracao = int):\n",
    "        \n",
    "        self.nome = nome\n",
    "        self.categoria = categoria\n",
    "        self.ativo = ativo\n",
    "        self.categoria = categoria\n",
    "        self.ano_inauguracao = ano_inauguracao\n",
    "\n",
    "Restaurante(nome = 'Capimburguer', categoria = 'Hamburgueria', ativo = True)"
   ]
  },
  {
   "cell_type": "markdown",
   "id": "81dadde7-1bf9-448c-99d2-98eadee65e17",
   "metadata": {},
   "source": [
    "4) Adicione um método especial `__str__` à classe Restaurante para que, ao imprimir uma instância, seja exibida uma mensagem formatada com o nome e a categoria. Exiba essa mensagem para uma instância de restaurante."
   ]
  },
  {
   "cell_type": "code",
   "execution_count": 36,
   "id": "1e0e2784-b0e3-42f4-904c-3006f7061f51",
   "metadata": {},
   "outputs": [
    {
     "name": "stdout",
     "output_type": "stream",
     "text": [
      "Nome: Capimburguer | Categoria : Hamburgueria\n"
     ]
    }
   ],
   "source": [
    "class Restaurante:\n",
    "    \n",
    "    def __init__(self, nome, categoria, ativo = False, cidade = '', ano_inauguracao = int):\n",
    "        \n",
    "        self.nome = nome\n",
    "        self.categoria = categoria\n",
    "        self.ativo = ativo\n",
    "        self.categoria = categoria\n",
    "        self.ano_inauguracao = ano_inauguracao\n",
    "\n",
    "    def __str__(self):\n",
    "        return f'Nome: {self.nome} | Categoria : {self.categoria}'\n",
    "\n",
    "print(Restaurante(nome = 'Capimburguer', categoria = 'Hamburgueria', ativo = True))"
   ]
  },
  {
   "cell_type": "markdown",
   "id": "ccf57558-3b3d-4cc7-bbe5-2d10cc091afe",
   "metadata": {},
   "source": [
    "5) Crie uma classe chamada Cliente e pense em 4 atributos. Em seguida, instancie 3 objetos desta classe e atribua valores aos seus atributos através de um método construtor."
   ]
  },
  {
   "cell_type": "code",
   "execution_count": 37,
   "id": "c1af46d3-e9a0-4062-a204-273ee08426d1",
   "metadata": {},
   "outputs": [],
   "source": [
    "class Cliente:\n",
    "\n",
    "    def __init__(self, nome, idade, freq_mes = int, pagamento = int):\n",
    "        self.nome = nome\n",
    "        self.idade = idade\n",
    "        self.freq_mes = freq_mes\n",
    "        self.pagamento = pagamento\n",
    "\n",
    "andrey = Cliente(nome = 'Andrey', idade = 24, freq_mes = .3)\n",
    "natalia = Cliente(nome = 'Natalia', idade = 22, freq_mes = .2)"
   ]
  },
  {
   "cell_type": "markdown",
   "id": "9e890640-8fca-4bd2-a19c-d87be0f041dd",
   "metadata": {
    "jp-MarkdownHeadingCollapsed": true
   },
   "source": [
    "### Exercício 3"
   ]
  },
  {
   "cell_type": "markdown",
   "id": "ff95028e-bca6-456c-80b2-0fae428fa3e2",
   "metadata": {},
   "source": [
    "```sh\n",
    "class Livro:\n",
    "    def __init__(self, titulo='', autor='', paginas=0):\n",
    "        self.titulo = titulo\n",
    "        self.autor = autor\n",
    "        self.paginas = paginas\n",
    "\n",
    "    def __str__(self):\n",
    "        return f'{self.titulo} por {self.autor} - {self.paginas} páginas'\n",
    "\n",
    "    @property\n",
    "    def titulo_autor(self):\n",
    "        return f'{self.titulo} por {self.autor}'\n",
    "\n",
    "    def aumentar_paginas(self, quantidade):\n",
    "        self.paginas += quantidade\n"
   ]
  },
  {
   "cell_type": "markdown",
   "id": "a9cec48c-4747-4c63-88b7-d32ac11c0685",
   "metadata": {},
   "source": [
    "Crie uma nova classe chamada Pessoa com atributos como nome, idade e profissão. Adicione um método especial __str__ para imprimir uma representação em string da pessoa. Implemente também um método de instância chamado aniversario que aumenta a idade da pessoa em um ano. Por fim, adicione uma propriedade chamada saudacao que retorna uma mensagem de saudação personalizada com base na profissão da pessoa."
   ]
  },
  {
   "cell_type": "code",
   "execution_count": 46,
   "id": "6c4aabd1-c1ad-49ea-9128-f426a0750992",
   "metadata": {},
   "outputs": [
    {
     "name": "stdout",
     "output_type": "stream",
     "text": [
      "Andrey | 25 anos | Estudante\n",
      "Estudante 📚\n"
     ]
    }
   ],
   "source": [
    "class Pessoa:\n",
    "\n",
    "    def __init__(self, nome, idade, profissao):\n",
    "        self.nome = nome\n",
    "        self.idade = idade\n",
    "        self.profissao = profissao\n",
    "\n",
    "    def __str__(self):\n",
    "        return f'{self.nome} | {self.idade} anos | {self.profissao}'\n",
    "\n",
    "    def aniver(self):\n",
    "        self.idade += 1\n",
    "\n",
    "    @property\n",
    "    def saudacao(self):\n",
    "        return 'Estudante 📚' if self.profissao == 'Estudante' else 'Nem Nem'\n",
    "\n",
    "eu = Pessoa(nome = 'Andrey', idade = 24, profissao = 'Estudante')\n",
    "eu.aniver()\n",
    "print(eu)\n",
    "print(eu.saudacao)"
   ]
  },
  {
   "cell_type": "markdown",
   "id": "1f62a3c9-0365-4955-bc41-5ff88b7070a9",
   "metadata": {
    "jp-MarkdownHeadingCollapsed": true
   },
   "source": [
    "### Lista 3"
   ]
  },
  {
   "cell_type": "markdown",
   "id": "014746db-3247-4422-8bdb-166560c14ed2",
   "metadata": {},
   "source": [
    "1) Crie uma classe chamada ContaBancaria com um construtor que aceita os parâmetros titular e saldo. Inicie o atributo ativo como False por padrão."
   ]
  },
  {
   "cell_type": "code",
   "execution_count": 51,
   "id": "706139bb-2dfb-4360-b9fd-7810769aaf87",
   "metadata": {},
   "outputs": [],
   "source": [
    "class ContaBancaria:\n",
    "    def __init__ (self, titular, saldo):\n",
    "        self.titular = titular\n",
    "        self.saldo = saldo\n",
    "        self._ativo = False"
   ]
  },
  {
   "cell_type": "markdown",
   "id": "daba8af5-8d45-422d-a261-570b6a1137fd",
   "metadata": {},
   "source": [
    "2) Na classe ContaBancaria, adicione um método especial __str__ que retorna uma mensagem formatada com o titular e o saldo da conta. Crie duas instâncias da classe e imprima essas instâncias."
   ]
  },
  {
   "cell_type": "code",
   "execution_count": 57,
   "id": "69b96e1e-3577-4502-8ff4-b799ff3cee81",
   "metadata": {},
   "outputs": [
    {
     "name": "stdout",
     "output_type": "stream",
     "text": [
      "Titular: Jose Armando \n",
      "Saldo: 1234\n",
      "Titular: Vilma Cristina \n",
      "Saldo: 9876\n"
     ]
    }
   ],
   "source": [
    "class ContaBancaria:\n",
    "    def __init__ (self, titular, saldo):\n",
    "        self.titular = titular\n",
    "        self.saldo = saldo\n",
    "        self._ativo = False\n",
    "\n",
    "    def __str__(self):\n",
    "        return f'Titular: {self.titular} \\nSaldo: {self.saldo}'\n",
    "\n",
    "titular1 = ContaBancaria(titular = 'Jose Armando', saldo = 1234)\n",
    "print(titular1)\n",
    "titular2 = ContaBancaria(titular = 'Vilma Cristina', saldo = 9876)\n",
    "print(titular2)"
   ]
  },
  {
   "cell_type": "markdown",
   "id": "be1cfcaf-aaac-4714-a858-6281cbf14dc2",
   "metadata": {},
   "source": [
    "3) Adicione um método de classe chamado ativar_conta à classe ContaBancaria que define o atributo ativo como True. Crie uma instância da classe, chame o método de classe e imprima o valor de ativo."
   ]
  },
  {
   "cell_type": "code",
   "execution_count": 112,
   "id": "42548021-18fb-4272-9739-24cbf5dd0b50",
   "metadata": {},
   "outputs": [
    {
     "name": "stdout",
     "output_type": "stream",
     "text": [
      "Antes de ativar: \n",
      "\n",
      "False\n",
      "\n",
      "Depois de ativar: \n",
      "\n",
      "True\n",
      "\n"
     ]
    }
   ],
   "source": [
    "class ContaBancaria:\n",
    "    def __init__ (self, titular, saldo):\n",
    "        self.titular = titular\n",
    "        self.saldo = saldo\n",
    "        self._ativo = False\n",
    "\n",
    "    def __str__(self):\n",
    "        return f'Titular: {self.titular} \\nSaldo: {self.saldo}'\n",
    "        \n",
    "    @classmethod\n",
    "    def ativar_conta(cls, conta):\n",
    "        conta._ativo = True\n",
    "        \n",
    "        \n",
    "titular1 = ContaBancaria(titular = 'Jose Armando', saldo = 1234)\n",
    "print(f'Antes de ativar: \\n\\n{titular1._ativo}\\n')\n",
    "ContaBancaria.ativar_conta(titular1)\n",
    "print(f'Depois de ativar: \\n\\n{titular1._ativo}\\n')"
   ]
  },
  {
   "cell_type": "markdown",
   "id": "706310f4-8d39-45b6-95bd-96f8e34219e4",
   "metadata": {},
   "source": [
    "4) Refatore a classe ContaBancaria para utilizar a abordagem \"pythonica\" na criação de atributos. Utilize propriedades, se necessário."
   ]
  },
  {
   "cell_type": "code",
   "execution_count": 121,
   "id": "e25352a2-651e-4c67-854f-1eaa28a16f5a",
   "metadata": {},
   "outputs": [],
   "source": [
    "class ContaBancariaPythonica:\n",
    "    \n",
    "    def __init__ (self, titular, saldo):\n",
    "        self._titular = titular\n",
    "        self._saldo = saldo\n",
    "        self._ativo = False\n",
    "\n",
    "    def __str__(self):\n",
    "        return f'Titular: {self.titular} \\nSaldo: {self.saldo}'\n",
    "        \n",
    "    @property\n",
    "    def titular(self):\n",
    "        return self._titular\n",
    "\n",
    "    @property\n",
    "    def saldo(self):\n",
    "        return self._saldo\n",
    "\n",
    "    @property\n",
    "    def ativo(self):\n",
    "        return self._ativo"
   ]
  },
  {
   "cell_type": "markdown",
   "id": "eb15f5dd-197a-42fc-b4a8-89d3e6a98891",
   "metadata": {},
   "source": [
    "5) Crie uma instância da classe e imprima o valor da propriedade titular."
   ]
  },
  {
   "cell_type": "code",
   "execution_count": 125,
   "id": "1a4f1e97-e92f-434d-805b-c631820523ea",
   "metadata": {},
   "outputs": [
    {
     "name": "stdout",
     "output_type": "stream",
     "text": [
      "Titular: Vilma Cristina \n",
      "Saldo: 9876.0\n"
     ]
    }
   ],
   "source": [
    "titular2 = ContaBancariaPythonica( 'Vilma Cristina',  9876.0)\n",
    "print(titular2)"
   ]
  },
  {
   "cell_type": "markdown",
   "id": "c2b8ce40-057a-4a1b-a774-544715073568",
   "metadata": {},
   "source": [
    "6) Crie uma classe chamada ClienteBanco com um construtor que aceita 5 atributos. Instancie 3 objetos desta classe e atribua valores aos seus atributos através do método construtor."
   ]
  },
  {
   "cell_type": "code",
   "execution_count": 143,
   "id": "801b4be8-7a95-42de-a621-3d33fc6e6eec",
   "metadata": {},
   "outputs": [
    {
     "name": "stdout",
     "output_type": "stream",
     "text": [
      "Andrey de Campos tem 24 anos e R$ 1234 na conta \n",
      "\n",
      "Laissa Cristina tem 21 anos e R$ 2345 na conta \n",
      "\n",
      "Vilma Cristina tem 55 anos e R$ 4676 na conta \n",
      "\n"
     ]
    }
   ],
   "source": [
    "class ClienteBanco:\n",
    "    def __init__(self, nome, cpf, idade, saldo):\n",
    "        self._nome = nome\n",
    "        self._idade = idade\n",
    "        self._cpf = cpf\n",
    "        self.saldo = saldo\n",
    "        self.ativo = False\n",
    "\n",
    "    def __str__(self):\n",
    "        return f'{self._nome} tem {self._idade} anos e R$ {self.saldo} na conta \\n'\n",
    "\n",
    "    @property\n",
    "    def nome(self):\n",
    "        return self._nome\n",
    "    @property\n",
    "    def idade(self):\n",
    "        return self._idade\n",
    "    @property\n",
    "    def cpf(self):\n",
    "        return self._cpf\n",
    "        \n",
    "eu = ClienteBanco(nome = 'Andrey de Campos', cpf = 123, idade = 24, saldo = 1234)\n",
    "la = ClienteBanco('Laissa Cristina', 234, 21, 2345)\n",
    "mae = ClienteBanco('Vilma Cristina', 346, 55, 4676)\n",
    "\n",
    "print(eu)\n",
    "print(la)\n",
    "print(mae)"
   ]
  },
  {
   "cell_type": "markdown",
   "id": "5836d1e8-351d-4c48-b49b-ad1394d78cc2",
   "metadata": {},
   "source": [
    "7) Crie um método de classe para a conta ClienteBanco."
   ]
  },
  {
   "cell_type": "code",
   "execution_count": 147,
   "id": "de43a801-66a6-4ea2-9e14-d20bf9e1ae00",
   "metadata": {},
   "outputs": [
    {
     "name": "stdout",
     "output_type": "stream",
     "text": [
      "Andrey de Campos tem 24 anos e R$ 1234 na conta \n",
      "\n",
      "Andrey de Campos tem 24 anos e R$ 2234 na conta \n",
      "\n"
     ]
    }
   ],
   "source": [
    "class ClienteBanco:\n",
    "    def __init__(self, nome, cpf, idade, saldo):\n",
    "        self._nome = nome\n",
    "        self._idade = idade\n",
    "        self._cpf = cpf\n",
    "        self.saldo = saldo\n",
    "        self.ativo = False\n",
    "\n",
    "    @classmethod\n",
    "    def mais_mil(cls, conta):\n",
    "        conta.saldo += 1000\n",
    "    \n",
    "    def __str__(self):\n",
    "        return f'{self._nome} tem {self._idade} anos e R$ {self.saldo} na conta \\n'\n",
    "\n",
    "    @property\n",
    "    def nome(self):\n",
    "        return self._nome\n",
    "    @property\n",
    "    def idade(self):\n",
    "        return self._idade\n",
    "    @property\n",
    "    def cpf(self):\n",
    "        return self._cpf\n",
    "        \n",
    "eu = ClienteBanco(nome = 'Andrey de Campos', cpf = 123, idade = 24, saldo = 1234)\n",
    "la = ClienteBanco('Laissa Cristina', 234, 21, 2345)\n",
    "mae = ClienteBanco('Vilma Cristina', 346, 55, 4676)\n",
    "\n",
    "print(eu)\n",
    "ClienteBanco.mais_mil(eu)\n",
    "print(eu)"
   ]
  },
  {
   "cell_type": "markdown",
   "id": "446194bd-fa1b-41b2-8e0a-f5c32ff79d30",
   "metadata": {},
   "source": [
    "### Exercício 4"
   ]
  },
  {
   "cell_type": "markdown",
   "id": "3608ef33-a5e4-46ea-8a4a-0dbd68a2e90e",
   "metadata": {},
   "source": [
    "Como importar a seguinte classe? Em seguida, crie uma instância.\n",
    "\n",
    "```sh\n",
    "# arquivo minha_classe.py\n",
    "class MinhaClasse:\n",
    "    def exibir_mensagem(self):\n",
    "        print(\"Mensagem da MinhaClasse: Olá, estou aqui!\")\n",
    "```"
   ]
  },
  {
   "cell_type": "markdown",
   "id": "fb0513ac-f467-4baa-be7e-d019c14bd08a",
   "metadata": {},
   "source": [
    "```sh\n",
    "from minha_classe import MinhaClasse\n",
    "\n",
    "obj = MinhaClasse()\n",
    "obj.exibir_mensagem()"
   ]
  },
  {
   "cell_type": "markdown",
   "id": "62929d23-ac0a-4291-973c-1ea49e5d64d9",
   "metadata": {},
   "source": [
    "### Lista 4"
   ]
  },
  {
   "cell_type": "markdown",
   "id": "88568072-34a4-437a-b838-5e922019c568",
   "metadata": {},
   "source": [
    "1) Crie uma classe chamada Livro com um construtor que aceita os parâmetros titulo, autor e ano_publicacao. Inicie um atributo chamado disponivel como True por padrão."
   ]
  },
  {
   "cell_type": "code",
   "execution_count": 5,
   "id": "6f184927-b4a6-4711-9473-0f82f9fe7888",
   "metadata": {},
   "outputs": [],
   "source": [
    "class Livro:\n",
    "    def __init__(self, titulo, autor, ano_publicacao):\n",
    "        self.titulo = titulo\n",
    "        self.autor = autor\n",
    "        self.ano_publicacao = ano_publicacao\n",
    "        self.disponivel = True\n",
    "        "
   ]
  },
  {
   "cell_type": "markdown",
   "id": "6ca75d59-90b2-46e6-91b0-f6d685d50b7b",
   "metadata": {},
   "source": [
    "2) Na classe Livro, adicione um método especial str que retorna uma mensagem formatada com o título, autor e ano de publicação do livro. Crie duas instâncias da classe Livro e imprima essas instâncias."
   ]
  },
  {
   "cell_type": "code",
   "execution_count": 43,
   "id": "af465264-f7d5-46b5-a98c-875d29d8e285",
   "metadata": {},
   "outputs": [
    {
     "name": "stdout",
     "output_type": "stream",
     "text": [
      "Título: Estatística Básica\n",
      "Autor: Wilton de Oliveira\n",
      "Ano de Publicação: 2013\n",
      "\n",
      "Título: Reading like a writer\n",
      "Autor: Francine Prose\n",
      "Ano de Publicação: 2006\n",
      "\n",
      "Título: Um Teste\n",
      "Autor: Eu e eu mesmo\n",
      "Ano de Publicação: 2024\n",
      "\n"
     ]
    }
   ],
   "source": [
    "class Livro:\n",
    "    def __init__(self, titulo, autor, ano_publicacao):\n",
    "        self.titulo = titulo\n",
    "        self.autor = autor\n",
    "        self.ano_publicacao = ano_publicacao\n",
    "        self.disponivel = True\n",
    "\n",
    "    def __str__(self):\n",
    "        return f'Título: {self.titulo}\\nAutor: {self.autor}\\nAno de Publicação: {self.ano_publicacao}\\n'\n",
    "\n",
    "livro1 = Livro(titulo = 'Estatística Básica', autor = 'Wilton de Oliveira', ano_publicacao = 2013)\n",
    "print(livro1)\n",
    "\n",
    "livro2 = Livro(titulo = 'Reading like a writer', autor = 'Francine Prose',  ano_publicacao = 2006)\n",
    "print(livro2)\n",
    "\n",
    "livro3 = Livro(titulo = 'Um Teste', autor = 'Eu e eu mesmo',  ano_publicacao = 2024)\n",
    "print(livro3)"
   ]
  },
  {
   "cell_type": "markdown",
   "id": "0e650dd5-9263-4bc0-811c-f470878b1a27",
   "metadata": {},
   "source": [
    "3) Adicione um método de instância chamado emprestar à classe Livro que define o atributo disponivel como False. Crie uma instância da classe, chame o método emprestar e imprima se o livro está disponível ou não."
   ]
  },
  {
   "cell_type": "code",
   "execution_count": 40,
   "id": "f5de468e-5e17-4314-8159-79e5ab993972",
   "metadata": {},
   "outputs": [
    {
     "name": "stdout",
     "output_type": "stream",
     "text": [
      "Antes de emprestar o livro 'Python for Data Analysis'. Está disponível? True\n",
      "Depois de emprestar o livro 'Python for Data Analysis'. Está disponível? False\n"
     ]
    }
   ],
   "source": [
    "class Livro:\n",
    "    def __init__(self, titulo, autor, ano_publicacao):\n",
    "        self.titulo = titulo\n",
    "        self.autor = autor\n",
    "        self.ano_publicacao = ano_publicacao\n",
    "        self.disponivel = True\n",
    "\n",
    "    def __str__(self):\n",
    "        return f'Título: {self.titulo}\\nAutor: {self.autor}\\nAno de Publicação: {self.ano_publicacao}\\n'\n",
    "    \n",
    "    def emprestar(self):\n",
    "        self.disponivel = False\n",
    "\n",
    "livro1 = Livro('Python for Data Analysis', 'Wis McKinney', 2012)\n",
    "print(f\"Antes de emprestar o livro '{livro1.titulo}'. Está disponível? {livro1.disponivel}\")\n",
    "livro1.emprestar()\n",
    "print(f\"Depois de emprestar o livro '{livro1.titulo}'. Está disponível? {livro1.disponivel}\")\n"
   ]
  },
  {
   "cell_type": "markdown",
   "id": "86cfb0f0-4607-447f-b79c-41f7075f0e00",
   "metadata": {},
   "source": [
    "4) Adicione um método estático chamado verificar_disponibilidade à classe Livro que recebe um ano como parâmetro e retorna uma lista dos livros disponíveis publicados nesse ano."
   ]
  },
  {
   "cell_type": "code",
   "execution_count": 67,
   "id": "e4379390-7e8d-451d-a1f0-84dc95ea70a6",
   "metadata": {},
   "outputs": [],
   "source": [
    "class Livro:\n",
    "    def __init__(self, titulo, autor, ano_publicacao):\n",
    "        self.titulo = titulo\n",
    "        self.autor = autor\n",
    "        self.ano_publicacao = ano_publicacao\n",
    "        self.disponivel = True\n",
    "\n",
    "    def __str__(self):\n",
    "        return f'Título: {self.titulo}\\nAutor: {self.autor}\\nAno de Publicação: {self.ano_publicacao}\\n'\n",
    "    \n",
    "    def emprestar(self):\n",
    "        self.disponivel = False\n",
    "\n",
    "    @staticmethod\n",
    "    def verificar_disponibilidade(ano):\n",
    "        livros = []\n",
    "        for livro in Livro.livros:\n",
    "            if ano == livro.ano_publicacao and livro.disponivel:\n",
    "                livros.append(livro)\n",
    "        return livros\n",
    "\n",
    "Livro.livros = [livro1, livro2]"
   ]
  },
  {
   "cell_type": "markdown",
   "id": "ea08b7bb-2829-4312-8334-2bb42b84142b",
   "metadata": {},
   "source": [
    "5) Crie um arquivo chamado biblioteca.py e importe a classe Livro neste arquivo."
   ]
  },
  {
   "cell_type": "markdown",
   "id": "0f4ad474-893d-4df8-975f-9dadcf8e2bca",
   "metadata": {},
   "source": [
    "```sh\n",
    "from Python_Orientacao_objetos.exercicio import Livro"
   ]
  },
  {
   "cell_type": "markdown",
   "id": "c311f9bb-4e2b-4073-9917-bda969235404",
   "metadata": {},
   "source": [
    "6) No arquivo biblioteca.py, empreste o livro chamando o método emprestar e imprima se o livro está disponível ou não após o empréstimo."
   ]
  },
  {
   "cell_type": "code",
   "execution_count": 41,
   "id": "e612d21c-c78c-40e4-9d55-b1bb3b2e6ea5",
   "metadata": {},
   "outputs": [
    {
     "name": "stdout",
     "output_type": "stream",
     "text": [
      "Pegando emprestado o livro Python for Data Analysis. Disponibilidade: True\n",
      "Pegando emprestado o livro Python for Data Analysis. Disponibilidade: False\n"
     ]
    }
   ],
   "source": [
    "livro1 = Livro('Python for Data Analysis', 'Wis McKinney', 2012)\n",
    "print(f'Pegando emprestado o livro {livro1.titulo}. Disponibilidade: {livro1.disponivel}')\n",
    "livro1.emprestar()\n",
    "print(f'Pegando emprestado o livro {livro1.titulo}. Disponibilidade: {livro1.disponivel}')"
   ]
  },
  {
   "cell_type": "markdown",
   "id": "5a398491-4a5e-4182-a47f-b2a28c1b8912",
   "metadata": {},
   "source": [
    "7) No arquivo biblioteca.py, utilize o método estático verificar_disponibilidade para obter a lista de livros disponíveis publicados em um ano específico."
   ]
  },
  {
   "cell_type": "code",
   "execution_count": 72,
   "id": "4d02488f-c399-4533-9ae3-cf2f2411e3b0",
   "metadata": {},
   "outputs": [
    {
     "name": "stdout",
     "output_type": "stream",
     "text": [
      "Título: Um Teste\n",
      "Autor: Eu e eu mesmo\n",
      "Ano de Publicação: 2024\n",
      "\n"
     ]
    }
   ],
   "source": [
    "Livro.livros = [livro1, livro2, livro3]\n",
    "\n",
    "livro_disponivel = Livro.verificar_disponibilidade(ano = 2024)\n",
    "for i in livro_disponivel:\n",
    "    print(i)"
   ]
  },
  {
   "cell_type": "markdown",
   "id": "c141ecc0-604d-453a-8a1d-bf705b1a6744",
   "metadata": {},
   "source": [
    "8) Crie um arquivo chamado main.py, importe a classe Livro e, no arquivo main.py, instancie dois objetos da classe Livro e exiba a mensagem formatada utilizando o método `str`."
   ]
  },
  {
   "cell_type": "code",
   "execution_count": 73,
   "id": "0e6bc855-4657-4a12-8a55-a89a70d194d0",
   "metadata": {},
   "outputs": [
    {
     "name": "stdout",
     "output_type": "stream",
     "text": [
      "Título: Estatística Básica\n",
      "Autor: Wilton de Oliveira\n",
      "Ano de Publicação: 2013\n",
      "\n",
      "Título: Reading like a writer\n",
      "Autor: Francine Prose\n",
      "Ano de Publicação: 2006\n",
      "\n"
     ]
    }
   ],
   "source": [
    "livro1 = Livro(titulo = 'Estatística Básica', autor = 'Wilton de Oliveira', ano_publicacao = 2013)\n",
    "livro2 = Livro(titulo = 'Reading like a writer', autor = 'Francine Prose',  ano_publicacao = 2006)\n",
    "print(livro1)\n",
    "print(livro2)"
   ]
  },
  {
   "cell_type": "markdown",
   "id": "d3afa973-dd69-46f3-ab8d-86f5ba811fb1",
   "metadata": {},
   "source": [
    "<font color = white>\n",
    "<center>\n",
    "    \n",
    "# Estudos Complemetares"
   ]
  },
  {
   "cell_type": "markdown",
   "id": "207577bd-7a7d-45c7-8da2-5fcf36c58137",
   "metadata": {},
   "source": [
    "\n",
    "[Python: utilizando POO na Engenharia de Dados](https://www.alura.com.br/artigos/python-poo-engenharia-dados)\n",
    "\n",
    "## Pilares da Programação Orientada a Objetos:\n",
    "\n",
    "> Abstração\n",
    "\n",
    "Essa característica nos permite representar modelos e estruturas complexas de forma simplificada e fácil de entender, por meio do uso de classes e métodos, que vão representar comportamentos e estados de um objeto. Por exemplo, uma classe chamada Animal pode ser construída como um modelo que tem informações como “nome” e “tamanho”, e comportamentos como “comer” e “dormir”. Essa classe pode representar vários animais diferentes, de forma abstraída, sem especificar diretamente o animal, mas conseguindo representá-los.\n",
    "\n",
    "> Encapsulamento\n",
    "\n",
    "Representa a capacidade de construir seções do código de maneira a organizar funções e métodos semelhantes em um mesmo objeto, ocultando informações internas que não deveriam ser acessadas por outros métodos e/ou objetos. O Python providencia mecanismos para isolar e restringir acesso de atributos em métodos fora de uma classe. A maneira mais comum é por meio de uma técnica chamada name mangling.\n",
    "\n",
    "> Herança\n",
    "\n",
    "Representa a capacidade de criar novas classes a partir de outras classes existentes, com a função de estender funcionalidades, e possibilita reutilizar código. A herança permite que classes compartilhem comportamentos e atributos comuns, ao mesmo tempo que permitem que as classes filhas derivadas possuam novas funcionalidades específicas. Por meio da herança, também é possível definir uma ordem de hierarquia entre os objetos.\n",
    "\n",
    "> Polimorfismo\n",
    "\n",
    "Representa a capacidade de um objeto ser utilizado com comportamentos de maneiras diferentes, a depender do contexto em que é inserido. Essa característica é trabalhada por meio da sobrecarga de métodos, uma técnica em que implementações diferentes são fornecidas por meio de diferentes tipos de parâmetros ou por meio de herança, onde, por exemplo, as classes filhas podem ter comportamentos diferentes das classes pai (super classes).\n",
    "\n",
    "---\n",
    "A característica de uma classe derivada compartilhar o mesmo nome de uma classe pai facilita a aplicação e uso do mesmo método em laços de repetição e outras situações quando precisa-se usar objetos distintos de várias classes derivadas."
   ]
  }
 ],
 "metadata": {
  "kernelspec": {
   "display_name": "Python 3 (ipykernel)",
   "language": "python",
   "name": "python3"
  },
  "language_info": {
   "codemirror_mode": {
    "name": "ipython",
    "version": 3
   },
   "file_extension": ".py",
   "mimetype": "text/x-python",
   "name": "python",
   "nbconvert_exporter": "python",
   "pygments_lexer": "ipython3",
   "version": "3.9.13"
  }
 },
 "nbformat": 4,
 "nbformat_minor": 5
}
