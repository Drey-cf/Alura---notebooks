{
 "cells": [
  {
   "cell_type": "markdown",
   "id": "77b7eaf4-9576-4197-a95b-cf6690975edf",
   "metadata": {
    "jp-MarkdownHeadingCollapsed": true
   },
   "source": [
    "# Exercício 1"
   ]
  },
  {
   "cell_type": "markdown",
   "id": "664a115e-da54-44f0-b718-ff467dbf072f",
   "metadata": {},
   "source": [
    "Com base no que vimos nessa aula sobre herança, crie uma classe Banco com dois atributos: nome e endereco. Em seguida, derive uma classe chamada Agencia que herda os atributos da classe Banco e inclua um atributo adicional chamado numero. Ambas as classes devem ter apenas o construtor."
   ]
  },
  {
   "cell_type": "code",
   "execution_count": 17,
   "id": "b7e7d1d9-c519-45f3-8c7c-894debd4ce5f",
   "metadata": {},
   "outputs": [],
   "source": [
    "class Banco:\n",
    "    def __init__(self, nome, endereco):\n",
    "        self._nome = nome\n",
    "        self._endereco = endereco\n",
    "\n",
    "\n",
    "class Agencia(Banco):\n",
    "    def __init__(self, nome, endereco):\n",
    "        super().__init__(nome, endereco)\n",
    "        self.numero = numero"
   ]
  },
  {
   "cell_type": "markdown",
   "id": "061e72ef-e5a8-49f4-ba6e-e62e27fd88b7",
   "metadata": {
    "jp-MarkdownHeadingCollapsed": true
   },
   "source": [
    "# Lista 1"
   ]
  },
  {
   "cell_type": "code",
   "execution_count": 18,
   "id": "1e7fda09-5af2-4744-8c41-0cbf36411541",
   "metadata": {},
   "outputs": [],
   "source": [
    "# 1) Crie uma Classe Pai (Veiculo): Implemente uma classe chamada Veiculo com um construtor que aceita dois parâmetros, marca e modelo. \n",
    "#A classe deve ter um atributo protegido _ligado inicializado como False por padrão.\n",
    "\n",
    "\n",
    "class Veiculo:\n",
    "    def __init__ (self, marca, modelo):\n",
    "        self.marca = marca\n",
    "        self.modelo = modelo\n",
    "        self._estado = False\n",
    "\n",
    "# 2 Construa o Método Especial str: Adicione um método especial str à classe Veiculo que retorna uma mensagem formatada com a marca, \n",
    "#modelo e o estado de ligado/desligado do veículo.\n",
    "\n",
    "    def __str__(self):\n",
    "        ligado = 'Ligado' if self._estado else 'Desligado'\n",
    "        return f'Marca: {self.marca} \\nModelo: {self.modelo} \\nEstado: {ligado} \\nStatus: {ligado}\\n\\n'"
   ]
  },
  {
   "cell_type": "code",
   "execution_count": 19,
   "id": "5d2dd057-7559-46c6-81cd-a100916d3952",
   "metadata": {},
   "outputs": [],
   "source": [
    "# 3) Crie uma Classe Filha (Carro): Agora, crie uma classe chamada Carro que herda da classe Veiculo. No construtor da classe Carro, inclua\n",
    "# um novo atributo chamado portas que indica a quantidade de portas do carro. \n",
    "\n",
    "class Carro(Veiculo):\n",
    "    def __init__ (self, marca, modelo, portas):\n",
    "        super().__init__(marca, modelo)\n",
    "        self._estado = False\n",
    "        self.portas = portas\n",
    "\n",
    "# 4) Implemente o Método Especial str na Classe Filha: Adicione um método especial str à classe Carro que estenda o método da classe pai\n",
    "#(Veiculo) e inclua a informação sobre a quantidade de portas do carro\n",
    "\n",
    "    def __str__ (self):\n",
    "        ligado = 'Ligado' if self._estado else 'Desligado'\n",
    "        return f'Marca: {self.marca} \\nModelo: {self.modelo} \\nPortas: {self.portas} \\nStatus: {ligado}\\n\\n'"
   ]
  },
  {
   "cell_type": "code",
   "execution_count": 20,
   "id": "95623432-5bc0-4adc-8dad-fca8ef279556",
   "metadata": {},
   "outputs": [],
   "source": [
    "# 5) Crie uma Classe Filha (Moto): Similarmente, crie uma classe chamada Moto que também herda de Veiculo. Adicione um novo atributo \n",
    "# chamado # tipo ao construtor, indicando se a moto é esportiva ou casual.\n",
    "\n",
    "class Moto(Veiculo):\n",
    "    def __init__ (self, marca, modelo, tipo):\n",
    "        super().__init__ (marca, modelo)\n",
    "        self.tipo = tipo\n",
    "        self._estado = False\n",
    "\n",
    "#6) Implemente o Método Especial str na Classe Filha (Moto): Adicione um método especial str à classe Moto que estenda o método da \n",
    "# classe pai (Veiculo) e inclua a informação sobre o tipo da moto.\n",
    "    def __str__ (self):\n",
    "        ligado = 'Ligado' if self._estado else 'Desligado'\n",
    "        return f'Marca: {self.marca} \\nModelo: {self.modelo} \\nTipo: {self.tipo} \\nStatus: {ligado}\\n\\n'"
   ]
  },
  {
   "cell_type": "code",
   "execution_count": 21,
   "id": "e94368ad-1b3c-417f-8e51-adf9b8863476",
   "metadata": {},
   "outputs": [
    {
     "name": "stdout",
     "output_type": "stream",
     "text": [
      "Marca: Toyota \n",
      "Modelo: Corolla \n",
      "Portas: 4 \n",
      "Status: Desligado\n",
      "\n",
      " Marca: Honda \n",
      "Modelo: Civic \n",
      "Portas: 2 \n",
      "Status: Desligado\n",
      "\n",
      " Marca: Ford \n",
      "Modelo: Fusion \n",
      "Portas: 4 \n",
      "Status: Desligado\n",
      "\n",
      "\n",
      "Marca: Harley-Davidson \n",
      "Modelo: Street 750 \n",
      "Tipo: Esportiva \n",
      "Status: Desligado\n",
      "\n",
      " Marca: Honda \n",
      "Modelo: CB 500 \n",
      "Tipo: Casual \n",
      "Status: Desligado\n",
      "\n",
      " Marca: Yamaha \n",
      "Modelo: MT-09 \n",
      "Tipo: Esportiva \n",
      "Status: Desligado\n",
      "\n",
      "\n"
     ]
    }
   ],
   "source": [
    "# 7) Crie um Arquivo Main (main.py): Crie um arquivo chamado main.py no mesmo diretório que suas classes.\n",
    "# 8) Importe e Instancie Objetos: No arquivo main.py, importe as classes Carro e Moto. Em seguida, crie três instâncias de Carro e \n",
    "# 3Moto com diferentes marcas, modelos, quantidade de portas e tipos.\n",
    "# 9) Exiba as Informações: Para cada instância, imprima no console as informações utilizando o método str.\n",
    "\n",
    "\n",
    "\n",
    "carro1 = Carro(\"Toyota\", \"Corolla\", 4)\n",
    "carro2 = Carro(\"Honda\", \"Civic\", 2)\n",
    "carro3 = Carro(\"Ford\", \"Fusion\", 4)\n",
    "\n",
    "moto1 = Moto(\"Harley-Davidson\", \"Street 750\", \"Esportiva\")\n",
    "moto2 = Moto(\"Honda\", \"CB 500\", \"Casual\")\n",
    "moto3 = Moto(\"Yamaha\", \"MT-09\", \"Esportiva\")\n",
    "\n",
    "print(carro1, carro2, carro3)\n",
    "print(moto1, moto2, moto3)"
   ]
  },
  {
   "cell_type": "markdown",
   "id": "411be0cb-9bd8-4cf0-9924-8da18d4d1ecd",
   "metadata": {
    "jp-MarkdownHeadingCollapsed": true
   },
   "source": [
    "# Exercicio 2"
   ]
  },
  {
   "cell_type": "markdown",
   "id": "cea70889-9ae8-4aed-9980-fc99501d94be",
   "metadata": {},
   "source": [
    "\n",
    "\n",
    "Crie uma classe chamada Sobremesa que herda de ItemCardapio, adicione dois atributos específicos como tipo e tamanho, à classe Sobremesa. Ajuste a inicialização da classe para incluir esses novos atributos, possibilitando a criação de um novo item ao cardápio do restaurante.\n",
    "\n",
    "Atualize o método __str__ conforme necessário para refletir essas mudanças.\n",
    "\n",
    "Certifique-se de que a classe Sobremesa mantenha a herança do método aplicar_desconto de ItemCardapio.\n"
   ]
  },
  {
   "cell_type": "markdown",
   "id": "764cf4aa-058d-46cf-bb1f-58a5a4347dd8",
   "metadata": {},
   "source": [
    "```sh\n",
    "from cardapio.item_cardapio import ItemCardapio\n",
    "\n",
    "class Sobremesa(ItemCardapio):\n",
    "    def __init__(self, nome, preco, tipo, tamanho):\n",
    "        super().__init__(nome, preço)\n",
    "        self._tipo = tipo\n",
    "        self._tamanho = tamanho\n",
    "        \n",
    "    def __str__(self):\n",
    "        return self._nome\n",
    "\n",
    "\tdef aplicar_desconto(self):\n",
    "\t\tself._preco -= self._preco*.15  # Aqui usamos o conceito de polimorfism, ou seja, um método que se adapta a diferentes classes\n",
    "```"
   ]
  },
  {
   "cell_type": "markdown",
   "id": "ccb31c85-8906-44a4-8b71-968eaba2635b",
   "metadata": {
    "jp-MarkdownHeadingCollapsed": true
   },
   "source": [
    "# Lista 2"
   ]
  },
  {
   "cell_type": "code",
   "execution_count": 31,
   "id": "1c23faa0-8312-4d59-b253-a43e30a266b9",
   "metadata": {},
   "outputs": [],
   "source": [
    "# 1) Crie uma classe chamada Veiculo com um método abstrato chamado ligar.\n",
    "# 2) No mesmo arquivo, crie um construtor para a classe Veiculo que aceita os parâmetros marca e modelo.\n",
    "\n",
    "from abc import ABC, abstractmethod\n",
    "class Veiculo:\n",
    "    @abstractmethod\n",
    "    def ligar(self):\n",
    "        pass\n",
    "\n",
    "    def __init__(self, marca, modelo):\n",
    "        self.marca = marca\n",
    "        self.modelo = modelo"
   ]
  },
  {
   "cell_type": "code",
   "execution_count": 41,
   "id": "dbb0a43d-cedd-494f-8be1-8f630c48bae4",
   "metadata": {},
   "outputs": [],
   "source": [
    "# 3) Crie uma nova classe chamada Carro que herda da classe Veiculo.\n",
    "# 4) No construtor da classe Carro, utilize o método super() para chamar o construtor da classe pai e atribua o atributo específico cor à\n",
    "# classe filha.\n",
    "\n",
    "\n",
    "class Carro(Veiculo):\n",
    "    def __init__(self, marca, modelo, cor):\n",
    "        super().__init__(marca, modelo)\n",
    "        self.cor = cor\n",
    "    \n",
    "    def __str__(self):\n",
    "        return f'{self.marca} | {self.modelo} | {self.cor}\\n\\n'"
   ]
  },
  {
   "cell_type": "code",
   "execution_count": 45,
   "id": "05eda72f-c20f-4221-a5ae-c7b19c56a5fd",
   "metadata": {},
   "outputs": [
    {
     "name": "stdout",
     "output_type": "stream",
     "text": [
      "Volkswagem | Savero Cros | Azul\n",
      "\n",
      " Ronda | XLS | Azul escuro\n",
      "\n",
      " Renault | Kwid | Branco\n",
      "\n",
      "\n"
     ]
    }
   ],
   "source": [
    "# 5) Em um arquivo chamado main.py, importe a classe Carro.\n",
    "# 6) No arquivo main.py, instancie três objetos da classe Carro com diferentes características, como marca, modelo e cor\n",
    "\n",
    "savero = Carro('Volkswagem', 'Savero Cros', 'Azul')\n",
    "hrv = Carro('Ronda', 'XLS', 'Azul escuro')\n",
    "kwid = Carro('Renault', 'Kwid', 'Branco')\n",
    "\n",
    "print(savero, hrv, kwid)"
   ]
  },
  {
   "cell_type": "markdown",
   "id": "31646b86-ecf3-4181-9c2d-76fc758ba8d1",
   "metadata": {
    "jp-MarkdownHeadingCollapsed": true
   },
   "source": [
    "# Para saber mais: Virtualenv"
   ]
  },
  {
   "cell_type": "markdown",
   "id": "8150be02-fbda-4343-a1ef-d4268a507aa5",
   "metadata": {},
   "source": [
    "Existe uma alternativa amplamente utilizada chamada **virtualenv**, uma ferramenta externa que, embora cumpra um propósito semelhante, apresenta algumas distinções notáveis em relação a venv. \n",
    "\n",
    "> Compatibilidade:\n",
    "\n",
    "A `venv` é uma biblioteca integrada ao Python 3.3 e versões posteriores, enquanto `virtualenv` é uma ferramenta externa que precisa ser instalada separadamente. Para versões mais recentes do Python (3.5 e acima), a `venv` é recomendada, pois oferece funcionalidades semelhantes às do `virtualenv` e está disponível de forma padrão.\n",
    "\n",
    "> Escopo de Funcionalidades:\n",
    "\n",
    "Ao considerar o escopo de funcionalidades, as diferenças entre `venv` e `virtualenv` tornam-se mais evidentes. `virtualenv` é conhecido por ser mais rico em funcionalidades e oferecer suporte a casos de uso mais avançados. Podemos verificar algumas das distinções significativas.\n",
    "\n",
    "> Suporte a Diferentes Interpretadores Python:\n",
    "\n",
    "`virtualenv` é mais flexível quando se trata de trabalhar com diferentes versões do Python e interpretadores alternativos. Pode ser utilizado para criar ambientes virtuais para várias versões do Python, incluindo versões mais antigas que ainda são compatíveis com o `virtualenv`.\n",
    "\n",
    "> Integração com Outras Linguagens:\n",
    "\n",
    "`virtualenv` é capaz de integrar-se a outras linguagens além do Python, proporcionando uma solução mais abrangente para projetos que envolvem múltiplas linguagens de programação. Isso pode ser particularmente útil em ambientes de desenvolvimento complexos.\n",
    "\n",
    "> Isolamento de Ambientes Virtuais:\n",
    "\n",
    "Embora ambos `venv` e `virtualenv` proporcionem isolamento de ambientes virtuais, `virtualenv` é conhecido por ter recursos adicionais para lidar com situações mais complexas, garantindo uma separação eficiente de dependências entre diferentes projetos.\n",
    "\n"
   ]
  },
  {
   "cell_type": "markdown",
   "id": "65123add-b65b-453b-81eb-ef96c6cc4c23",
   "metadata": {
    "jp-MarkdownHeadingCollapsed": true
   },
   "source": [
    "# Para saber mais:  desenvolvendo APIs com Python"
   ]
  },
  {
   "cell_type": "markdown",
   "id": "079e4d31-afa7-4ddb-b564-89e5ed61f6aa",
   "metadata": {},
   "source": [
    "Como vimos, as APIs desempenham um papel fundamental na interconexão de sistemas e no compartilhamento de dados entre diferentes aplicações, fazendo uma conexão entre usuário e servidor. \n",
    "\n",
    "Ao escolher um framework para desenvolver uma API, é crucial considerar diversos fatores. Primeiramente, os requisitos específicos do projeto, incluindo complexidade, escalabilidade e desempenho esperado, devem ser cuidadosamente analisados. A facilidade de uso, suporte da comunidade, integração, documentação, desempenho, segurança, suporte a bancos de dados e a visão futura do framework são elementos essenciais a serem ponderados.\n",
    "\n",
    "> Flask: Simplicidade e Flexibilidade\n",
    "\n",
    "Flask é conhecido por sua simplicidade e facilidade de uso. É uma escolha popular para projetos menores ou para desenvolvedores que preferem ter mais controle sobre os componentes que utilizam. Com Flask, você pode rapidamente criar uma API básica com poucas linhas de código, sendo uma excelente opção para prototipagem rápida, como mostrado no código a seguir:\n",
    "\n",
    "```sh\n",
    "from flask import Flask\n",
    "\n",
    "app = Flask(__name__)\n",
    "\n",
    "@app.route('/api')\n",
    "def ola_mundo():\n",
    "    return 'Olá Mundo!'\n",
    "\n",
    "if __name__ == '__main__':\n",
    "    app.run()\n",
    "```\n",
    "\n",
    "> Django: Estrutura Poderosa e Convenções Batteries-Included\n",
    "\n",
    "O Django é uma escolha robusta para projetos mais complexos e de maior escala. Ele fornece uma estrutura completa que inclui um sistema de administração, ORM (Object-Relational Mapping) e muitos outros recursos. Apesar de ser um framework mais pesado em comparação com Flask, o Django oferece uma solução abrangente para desenvolvimento web. Um exemplo de como criar uma API simples em Django está no código a seguir:\n",
    "\n",
    "```sh\n",
    "from django.http import JsonResponse\n",
    "from django.views import View\n",
    "\n",
    "class MinhaAPI(View):\n",
    "    def get(self, request):\n",
    "        return JsonResponse({'message': 'Olá mundo!'})\n",
    "```\n",
    "\n",
    "> FastAPI: Alta Performance e Documentação Automática\n",
    "\n",
    "Como vimos, FastAPI é uma escolha moderna, otimizada para alta performance e fácil utilização. Ele utiliza a tipagem de dados do Python 3.7+ para oferecer uma documentação automática excepcional, facilitando a compreensão e utilização da API."
   ]
  },
  {
   "cell_type": "markdown",
   "id": "ce9c4b56-34ae-473a-bb56-3eaa2abd24c9",
   "metadata": {
    "jp-MarkdownHeadingCollapsed": true
   },
   "source": [
    "<center>\n",
    "<font color = yellow>\n",
    "\n",
    "# Estudos complementares"
   ]
  },
  {
   "attachments": {},
   "cell_type": "markdown",
   "id": "cbce31a9-bc99-4827-acaf-c004ed592fad",
   "metadata": {},
   "source": [
    "<font color = Yellow>\n",
    "\n",
    "## [Como criar APIs em Python usando FastAPI](https://www.alura.com.br/artigos/como-criar-apis-python-usando-fastapi)\n",
    "\n",
    "> O por que\n",
    "\n",
    "Sebastián Ramírez, criador do FastAPI, trabalha há muitos anos desenvolvendo APIs com requisitos complexos, e como parte deste cenário pôde conhecer e utilizar várias ferramentas em busca de algo que realmente atendesse às necessidades que ele e seu time de desenvolvedores tinham.\n",
    "\n",
    "Após desbravar inúmeros frameworks e plug-ins sentiu a necessidade de unir todas as funcionalidades que encontrava nestas ferramentas em um único lugar.\n",
    "\n",
    "Com base em toda essa experiência, criou um framework que foi pensado desde o início para ter uma abordagem moderna, que utilizasse programação assíncrona, que possui type hint, e com as features mais recentes do Python.\n",
    "\n",
    "> As vantagens\n",
    "\n",
    "Além de ter uma abordagem moderna, o FastAPI tem uma grande lista de funcionalidades, e é justamente essa lista que vem atribuindo tantos adjetivos ao FastAPI. Entre seus principais recursos podemos citar:\n",
    "\n",
    "- O uso de OpenAPI para criação de APIs, que é essencial em um mundo cada vez mais conectado, que permite que os sistemas internos de uma organização interajam de forma segura e autenticada com o ambiente externo, estendendo seus sistemas, criando novas funcionalidades e usos que muitas vezes nem a própria organização imaginou.\n",
    "\n",
    "- Possui duas opções de documentação automática já incluídas por padrão, sendo elas Swagger UI, para navegar de forma interativa, chamar e testar sua API diretamente do navegador; e documentação navegável e alternativa da API com a biblioteca ReDoc.\n",
    "\n",
    "- Utiliza a biblioteca Pydantic para padronizar o código de acordo com a sintaxe do Python 3.6, o que garante validação para todos os tipos de dados Python, e também que estamos sempre trabalhando com as features mais modernas do Python.\n",
    "\n",
    "- Como foi projetado desde o ínicio para ser fácil de utilizar, houve também a preocupação em relação ao suporte dos editores mais utilizados pela comunidade, pelo mesmo motivo foi vista a necessidade de garantir as funcionalidades mais utilizadas dentro deles, com isso temos a função `autocomplete` funcionando em todos os lugares dentro do framework, não é incrível?\n",
    "\n",
    "- Há padrões sensíveis para tudo, e tudo pode ser configurado de acordo com as necessidades do usuário.\n",
    "\n",
    "- Conta com um sistema de injeção de dependência extremamente fácil de usar, que possui validação automática, suporte para sistemas de autenticação complexos e conexões com banco de dados e tudo isso sem comprometer os bancos de dados.\n",
    "\n",
    "- Utiliza type annotations, e tem 100% de cobertura de testes.\n",
    "\n",
    "\n",
    "```sh\n",
    "from fastapi import FastAPI\n",
    "\n",
    "app = FastAPI() #Criar uma instância para a classe FastAPI\n",
    "\n",
    "#Definir um decorador de rota, que será responsável por tratar as requisições que vão para a rota “ / ” usando o operador get\n",
    "@app.get('/')\n",
    "\n",
    "#Definindo a função da rota e retornando o conteúdo\n",
    "def hello_root():\n",
    "    return {\"message\": \"Hello World\"}\n",
    "\n",
    "```"
   ]
  }
 ],
 "metadata": {
  "kernelspec": {
   "display_name": "Python 3 (ipykernel)",
   "language": "python",
   "name": "python3"
  },
  "language_info": {
   "codemirror_mode": {
    "name": "ipython",
    "version": 3
   },
   "file_extension": ".py",
   "mimetype": "text/x-python",
   "name": "python",
   "nbconvert_exporter": "python",
   "pygments_lexer": "ipython3",
   "version": "3.9.13"
  }
 },
 "nbformat": 4,
 "nbformat_minor": 5
}
